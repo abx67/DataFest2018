{
 "cells": [
  {
   "cell_type": "code",
   "execution_count": 1,
   "metadata": {},
   "outputs": [],
   "source": [
    "import pandas as pd\n",
    "import numpy as np\n",
    "import matplotlib.pyplot as plt\n",
    "from time import time\n",
    "import csv\n",
    "\n",
    "from sklearn.model_selection import train_test_split\n",
    "from sklearn.model_selection import GridSearchCV\n",
    "from sklearn.svm import LinearSVC\n",
    "from sklearn.svm import SVC"
   ]
  },
  {
   "cell_type": "code",
   "execution_count": 4,
   "metadata": {},
   "outputs": [
    {
     "name": "stdout",
     "output_type": "stream",
     "text": [
      "[1 2 3 4 5 6 7 1 2 3 4 5 6 7 1 2 3 4 5 6 7 1 2 3 4 5 6 7 1 2 3 4 5 6 7 1 2\n",
      " 3 4 5 6 7 1 2 3 4 5 6 7 1 2 3 4 5 6 7 1 2 3 4 5 6 7 1 2 3 4 5 6 7 1 2 3 4\n",
      " 5 6 7 1 2 3 4 5 6 7 1 2 3 4 5 6 7]\n",
      "['2016-10' '2016-10' '2016-10' '2016-10' '2016-10' '2016-10' '2016-10'\n",
      " '2016-11' '2016-11' '2016-11' '2016-11' '2016-11' '2016-11' '2016-11'\n",
      " '2017-01' '2017-01' '2017-01' '2017-01' '2017-01' '2017-01' '2017-01'\n",
      " '2017-02' '2017-02' '2017-02' '2017-02' '2017-02' '2017-02' '2017-02'\n",
      " '2017-03' '2017-03' '2017-03' '2017-03' '2017-03' '2017-03' '2017-03'\n",
      " '2017-04' '2017-04' '2017-04' '2017-04' '2017-04' '2017-04' '2017-04'\n",
      " '2017-05' '2017-05' '2017-05' '2017-05' '2017-05' '2017-05' '2017-05'\n",
      " '2017-06' '2017-06' '2017-06' '2017-06' '2017-06' '2017-06' '2017-06'\n",
      " '2017-07' '2017-07' '2017-07' '2017-07' '2017-07' '2017-07' '2017-07'\n",
      " '2017-08' '2017-08' '2017-08' '2017-08' '2017-08' '2017-08' '2017-08'\n",
      " '2017-09' '2017-09' '2017-09' '2017-09' '2017-09' '2017-09' '2017-09'\n",
      " '2017-10' '2017-10' '2017-10' '2017-10' '2017-10' '2017-10' '2017-10'\n",
      " '2017-11' '2017-11' '2017-11' '2017-11' '2017-11' '2017-11' '2017-11']\n",
      "[151183 171205 140823 141761 135690 126404 142302 125069 138588 170393\n",
      " 163672 124512 120646 115539 154339 173682 178221 143244 140405 133692\n",
      " 122675 125023 144170 143117 142923 142301 135038 122238 132196 149390\n",
      " 150405 186250 183909 173064 126809 162590 151492 152698 153223 149134\n",
      " 138798 158275 130732 191007 195264 192813 151075 141845 127559 132457\n",
      " 153310 154460 152214 186941 175746 124173 163017 185183 145944 152789\n",
      " 149938 143834 159513 131677 151301 191567 189826 186733 140697 126631\n",
      " 128713 146244 149636 148773 146432 173085 155442 166686 188314 187479\n",
      " 151848 149204 140871 126770 135058 153524 152903 184497 173463 136655\n",
      " 127614]\n",
      "    Unnamed: 0 year_month  wday       n\n",
      "0            1    2016-10     1  151183\n",
      "1            2    2016-10     2  171205\n",
      "2            3    2016-10     3  140823\n",
      "3            4    2016-10     4  141761\n",
      "4            5    2016-10     5  135690\n",
      "5            6    2016-10     6  126404\n",
      "6            7    2016-10     7  142302\n",
      "7            8    2016-11     1  125069\n",
      "8            9    2016-11     2  138588\n",
      "9           10    2016-11     3  170393\n",
      "10          11    2016-11     4  163672\n",
      "11          12    2016-11     5  124512\n",
      "12          13    2016-11     6  120646\n",
      "13          14    2016-11     7  115539\n",
      "14          15    2017-01     1  154339\n",
      "15          16    2017-01     2  173682\n",
      "16          17    2017-01     3  178221\n",
      "17          18    2017-01     4  143244\n",
      "18          19    2017-01     5  140405\n",
      "19          20    2017-01     6  133692\n",
      "20          21    2017-01     7  122675\n",
      "21          22    2017-02     1  125023\n",
      "22          23    2017-02     2  144170\n",
      "23          24    2017-02     3  143117\n",
      "24          25    2017-02     4  142923\n",
      "25          26    2017-02     5  142301\n",
      "26          27    2017-02     6  135038\n",
      "27          28    2017-02     7  122238\n",
      "28          29    2017-03     1  132196\n",
      "29          30    2017-03     2  149390\n",
      "..         ...        ...   ...     ...\n",
      "61          62    2017-07     6  143834\n",
      "62          63    2017-07     7  159513\n",
      "63          64    2017-08     1  131677\n",
      "64          65    2017-08     2  151301\n",
      "65          66    2017-08     3  191567\n",
      "66          67    2017-08     4  189826\n",
      "67          68    2017-08     5  186733\n",
      "68          69    2017-08     6  140697\n",
      "69          70    2017-08     7  126631\n",
      "70          71    2017-09     1  128713\n",
      "71          72    2017-09     2  146244\n",
      "72          73    2017-09     3  149636\n",
      "73          74    2017-09     4  148773\n",
      "74          75    2017-09     5  146432\n",
      "75          76    2017-09     6  173085\n",
      "76          77    2017-09     7  155442\n",
      "77          78    2017-10     1  166686\n",
      "78          79    2017-10     2  188314\n",
      "79          80    2017-10     3  187479\n",
      "80          81    2017-10     4  151848\n",
      "81          82    2017-10     5  149204\n",
      "82          83    2017-10     6  140871\n",
      "83          84    2017-10     7  126770\n",
      "84          85    2017-11     1  135058\n",
      "85          86    2017-11     2  153524\n",
      "86          87    2017-11     3  152903\n",
      "87          88    2017-11     4  184497\n",
      "88          89    2017-11     5  173463\n",
      "89          90    2017-11     6  136655\n",
      "90          91    2017-11     7  127614\n",
      "\n",
      "[91 rows x 4 columns]\n"
     ]
    }
   ],
   "source": [
    "data_tr=pd.read_csv(\"/Users/fanerror/GitHub/DataFest2018/wdaycount.csv\",header = 0)\n",
    "wday =  np.array(data_tr['wday'])\n",
    "print(wday)\n",
    "year_month =  np.array(data_tr['year_month'])\n",
    "print(year_month)\n",
    "n =  np.array(data_tr['n'])\n",
    "print(n)\n",
    "print(data_tr)"
   ]
  },
  {
   "cell_type": "code",
   "execution_count": 5,
   "metadata": {},
   "outputs": [
    {
     "data": {
      "text/html": [
       "<div>\n",
       "<style scoped>\n",
       "    .dataframe tbody tr th:only-of-type {\n",
       "        vertical-align: middle;\n",
       "    }\n",
       "\n",
       "    .dataframe tbody tr th {\n",
       "        vertical-align: top;\n",
       "    }\n",
       "\n",
       "    .dataframe thead th {\n",
       "        text-align: right;\n",
       "    }\n",
       "</style>\n",
       "<table border=\"1\" class=\"dataframe\">\n",
       "  <thead>\n",
       "    <tr style=\"text-align: right;\">\n",
       "      <th></th>\n",
       "      <th>child_weight</th>\n",
       "      <th>depth</th>\n",
       "      <th>error</th>\n",
       "    </tr>\n",
       "  </thead>\n",
       "  <tbody>\n",
       "    <tr>\n",
       "      <th>0</th>\n",
       "      <td>2016-10</td>\n",
       "      <td>1</td>\n",
       "      <td>151183</td>\n",
       "    </tr>\n",
       "    <tr>\n",
       "      <th>1</th>\n",
       "      <td>2016-10</td>\n",
       "      <td>2</td>\n",
       "      <td>171205</td>\n",
       "    </tr>\n",
       "    <tr>\n",
       "      <th>2</th>\n",
       "      <td>2016-10</td>\n",
       "      <td>3</td>\n",
       "      <td>140823</td>\n",
       "    </tr>\n",
       "    <tr>\n",
       "      <th>3</th>\n",
       "      <td>2016-10</td>\n",
       "      <td>4</td>\n",
       "      <td>141761</td>\n",
       "    </tr>\n",
       "    <tr>\n",
       "      <th>4</th>\n",
       "      <td>2016-10</td>\n",
       "      <td>5</td>\n",
       "      <td>135690</td>\n",
       "    </tr>\n",
       "  </tbody>\n",
       "</table>\n",
       "</div>"
      ],
      "text/plain": [
       "  child_weight  depth   error\n",
       "0      2016-10      1  151183\n",
       "1      2016-10      2  171205\n",
       "2      2016-10      3  140823\n",
       "3      2016-10      4  141761\n",
       "4      2016-10      5  135690"
      ]
     },
     "execution_count": 5,
     "metadata": {},
     "output_type": "execute_result"
    }
   ],
   "source": [
    "grid2 = {'depth': wday,\n",
    "         'child_weight': year_month,\n",
    "         'error': n\n",
    "        }\n",
    "# param_grid2 = {'depth': np.array([3,5,7,9]),\n",
    "#          'child_weight': np.array([1,3,5])\n",
    "#               }\n",
    "res2 = pd.DataFrame(grid2)\n",
    "res2.head()"
   ]
  },
  {
   "cell_type": "code",
   "execution_count": 6,
   "metadata": {},
   "outputs": [
    {
     "data": {
      "image/png": "[encoded data removed]",
      "text/plain": [
       "<Figure size 432x288 with 2 Axes>"
      ]
     },
     "metadata": {},
     "output_type": "display_data"
    }
   ],
   "source": [
    "month = [\"Oct\", \"Nov\", \"Jan\", \"Feb\", \"Mar\", \"Apr\",\"May\",\"Jun\",\"Jul\",\"Aug\", \"Sep\",\"Oct\",\"Nov\"]\n",
    "plt.title(\"Heatmap\")\n",
    "plt.imshow(res2.error.values.reshape(7, 13), cmap=plt.cm.Blues)\n",
    "plt.yticks(range(7), wday)\n",
    "plt.ylabel(\"Weekday\")\n",
    "plt.xticks(range(13), month)\n",
    "plt.xlabel(\"Month\")\n",
    "plt.colorbar()\n",
    "plt.show()"
   ]
  },
  {
   "cell_type": "code",
   "execution_count": 16,
   "metadata": {},
   "outputs": [
    {
     "data": {
      "text/html": [
       "<div>\n",
       "<style scoped>\n",
       "    .dataframe tbody tr th:only-of-type {\n",
       "        vertical-align: middle;\n",
       "    }\n",
       "\n",
       "    .dataframe tbody tr th {\n",
       "        vertical-align: top;\n",
       "    }\n",
       "\n",
       "    .dataframe thead th {\n",
       "        text-align: right;\n",
       "    }\n",
       "</style>\n",
       "<table border=\"1\" class=\"dataframe\">\n",
       "  <thead>\n",
       "    <tr style=\"text-align: right;\">\n",
       "      <th></th>\n",
       "      <th>child_weight</th>\n",
       "      <th>depth</th>\n",
       "      <th>error</th>\n",
       "    </tr>\n",
       "  </thead>\n",
       "  <tbody>\n",
       "    <tr>\n",
       "      <th>0</th>\n",
       "      <td>1</td>\n",
       "      <td>3</td>\n",
       "      <td>0.088000</td>\n",
       "    </tr>\n",
       "    <tr>\n",
       "      <th>1</th>\n",
       "      <td>3</td>\n",
       "      <td>3</td>\n",
       "      <td>0.091333</td>\n",
       "    </tr>\n",
       "    <tr>\n",
       "      <th>2</th>\n",
       "      <td>5</td>\n",
       "      <td>3</td>\n",
       "      <td>0.083000</td>\n",
       "    </tr>\n",
       "    <tr>\n",
       "      <th>3</th>\n",
       "      <td>1</td>\n",
       "      <td>5</td>\n",
       "      <td>0.093000</td>\n",
       "    </tr>\n",
       "    <tr>\n",
       "      <th>4</th>\n",
       "      <td>3</td>\n",
       "      <td>5</td>\n",
       "      <td>0.094667</td>\n",
       "    </tr>\n",
       "  </tbody>\n",
       "</table>\n",
       "</div>"
      ],
      "text/plain": [
       "   child_weight  depth     error\n",
       "0             1      3  0.088000\n",
       "1             3      3  0.091333\n",
       "2             5      3  0.083000\n",
       "3             1      5  0.093000\n",
       "4             3      5  0.094667"
      ]
     },
     "execution_count": 16,
     "metadata": {},
     "output_type": "execute_result"
    }
   ],
   "source": [
    "grid2 = {'depth': np.array([3,3,3,5,5,5,7,7,7,9,9,9]),\n",
    "         'child_weight': np.array([1,3,5,1,3,5,1,3,5,1,3,5]),\n",
    "         'error': np.array([0.0880000, 0.09133333, 0.08300000,\n",
    "                            0.0930000, 0.09466667, 0.09400000,\n",
    "                            0.1023333, 0.09466667, 0.09966667,\n",
    "                            0.1053333, 0.10033333, 0.09533333])\n",
    "        }\n",
    "param_grid2 = {'depth': np.array([3,5,7,9]),\n",
    "         'child_weight': np.array([1,3,5])\n",
    "              }\n",
    "res2 = pd.DataFrame(grid2)\n",
    "res2.head()"
   ]
  },
  {
   "cell_type": "code",
   "execution_count": 17,
   "metadata": {
    "scrolled": true
   },
   "outputs": [
    {
     "data": {
      "image/png": "[encoded data removed]",
      "text/plain": [
       "<Figure size 432x288 with 2 Axes>"
      ]
     },
     "metadata": {},
     "output_type": "display_data"
    }
   ],
   "source": [
    "plt.title(\"cv.error\")\n",
    "plt.imshow(res2.error.values.reshape(4, 3), cmap=plt.cm.Blues)\n",
    "plt.yticks(range(len(param_grid2['depth'])), param_grid2['depth'])\n",
    "plt.ylabel(\"depth\")\n",
    "plt.xticks(range(len(param_grid2['child_weight'])), param_grid2['child_weight'])\n",
    "plt.xlabel(\"child_weight\")\n",
    "plt.colorbar()\n",
    "plt.show()"
   ]
  },
  {
   "cell_type": "code",
   "execution_count": 18,
   "metadata": {},
   "outputs": [
    {
     "data": {
      "text/html": [
       "<div>\n",
       "<style scoped>\n",
       "    .dataframe tbody tr th:only-of-type {\n",
       "        vertical-align: middle;\n",
       "    }\n",
       "\n",
       "    .dataframe tbody tr th {\n",
       "        vertical-align: top;\n",
       "    }\n",
       "\n",
       "    .dataframe thead th {\n",
       "        text-align: right;\n",
       "    }\n",
       "</style>\n",
       "<table border=\"1\" class=\"dataframe\">\n",
       "  <thead>\n",
       "    <tr style=\"text-align: right;\">\n",
       "      <th></th>\n",
       "      <th>child_weight</th>\n",
       "      <th>depth</th>\n",
       "      <th>error</th>\n",
       "    </tr>\n",
       "  </thead>\n",
       "  <tbody>\n",
       "    <tr>\n",
       "      <th>0</th>\n",
       "      <td>1</td>\n",
       "      <td>3</td>\n",
       "      <td>0.091667</td>\n",
       "    </tr>\n",
       "    <tr>\n",
       "      <th>1</th>\n",
       "      <td>3</td>\n",
       "      <td>3</td>\n",
       "      <td>0.093667</td>\n",
       "    </tr>\n",
       "    <tr>\n",
       "      <th>2</th>\n",
       "      <td>5</td>\n",
       "      <td>3</td>\n",
       "      <td>0.091000</td>\n",
       "    </tr>\n",
       "    <tr>\n",
       "      <th>3</th>\n",
       "      <td>1</td>\n",
       "      <td>5</td>\n",
       "      <td>0.098333</td>\n",
       "    </tr>\n",
       "    <tr>\n",
       "      <th>4</th>\n",
       "      <td>3</td>\n",
       "      <td>5</td>\n",
       "      <td>0.097000</td>\n",
       "    </tr>\n",
       "  </tbody>\n",
       "</table>\n",
       "</div>"
      ],
      "text/plain": [
       "   child_weight  depth     error\n",
       "0             1      3  0.091667\n",
       "1             3      3  0.093667\n",
       "2             5      3  0.091000\n",
       "3             1      5  0.098333\n",
       "4             3      5  0.097000"
      ]
     },
     "execution_count": 18,
     "metadata": {},
     "output_type": "execute_result"
    }
   ],
   "source": [
    "grid2 = {'depth': np.array([3,3,3,5,5,5,7,7,7,9,9,9]),\n",
    "         'child_weight': np.array([1,3,5,1,3,5,1,3,5,1,3,5]),\n",
    "         'error': np.array([0.09166667, 0.09366667, 0.09100000,\n",
    "                            0.09833333, 0.09700000, 0.09133333,\n",
    "                            0.10266667, 0.10333333, 0.10333333,\n",
    "                            0.10733333, 0.10100000, 0.09933333])\n",
    "        }\n",
    "param_grid2 = {'depth': np.array([3,5,7,9]),\n",
    "         'child_weight': np.array([1,3,5])\n",
    "              }\n",
    "res2 = pd.DataFrame(grid2)\n",
    "res2.head()"
   ]
  },
  {
   "cell_type": "code",
   "execution_count": 19,
   "metadata": {},
   "outputs": [
    {
     "data": {
      "image/png": "[encoded data removed]",
      "text/plain": [
       "<Figure size 432x288 with 2 Axes>"
      ]
     },
     "metadata": {},
     "output_type": "display_data"
    }
   ],
   "source": [
    "plt.title(\"cv.error\")\n",
    "plt.imshow(res2.error.values.reshape(4, 3), cmap=plt.cm.Blues)\n",
    "plt.yticks(range(len(param_grid2['depth'])), param_grid2['depth'])\n",
    "plt.ylabel(\"depth\")\n",
    "plt.xticks(range(len(param_grid2['child_weight'])), param_grid2['child_weight'])\n",
    "plt.xlabel(\"child_weight\")\n",
    "plt.colorbar()\n",
    "plt.show()"
   ]
  },
  {
   "cell_type": "code",
   "execution_count": null,
   "metadata": {},
   "outputs": [],
   "source": []
  }
 ],
 "metadata": {
  "kernelspec": {
   "display_name": "mypython",
   "language": "python",
   "name": "mypython"
  },
  "language_info": {
   "codemirror_mode": {
    "name": "ipython",
    "version": 2
   },
   "file_extension": ".py",
   "mimetype": "text/x-python",
   "name": "python",
   "nbconvert_exporter": "python",
   "pygments_lexer": "ipython2",
   "version": "2.7.14"
  }
 },
 "nbformat": 4,
 "nbformat_minor": 2
}
