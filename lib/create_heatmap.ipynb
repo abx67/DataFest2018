{
 "cells": [
  {
   "cell_type": "code",
   "execution_count": 2,
   "metadata": {},
   "outputs": [],
   "source": [
    "import pandas as pd\n",
    "import numpy as np\n",
    "import matplotlib.pyplot as plt\n",
    "from time import time\n",
    "import csv\n",
    "\n",
    "from sklearn.model_selection import train_test_split\n",
    "from sklearn.model_selection import GridSearchCV\n",
    "from sklearn.svm import LinearSVC\n",
    "from sklearn.svm import SVC"
   ]
  },
  {
   "cell_type": "code",
   "execution_count": 4,
   "metadata": {},
   "outputs": [
    {
     "name": "stdout",
     "output_type": "stream",
     "text": [
      "[1 2 3 4 5 6 7 1 2 3 4 5 6 7 1 2 3 4 5 6 7 1 2 3 4 5 6 7 1 2 3 4 5 6 7 1 2\n",
      " 3 4 5 6 7 1 2 3 4 5 6 7 1 2 3 4 5 6 7 1 2 3 4 5 6 7 1 2 3 4 5 6 7 1 2 3 4\n",
      " 5 6 7 1 2 3 4 5 6 7 1 2 3 4 5 6 7]\n",
      "['2016-10' '2016-10' '2016-10' '2016-10' '2016-10' '2016-10' '2016-10'\n",
      " '2016-11' '2016-11' '2016-11' '2016-11' '2016-11' '2016-11' '2016-11'\n",
      " '2017-01' '2017-01' '2017-01' '2017-01' '2017-01' '2017-01' '2017-01'\n",
      " '2017-02' '2017-02' '2017-02' '2017-02' '2017-02' '2017-02' '2017-02'\n",
      " '2017-03' '2017-03' '2017-03' '2017-03' '2017-03' '2017-03' '2017-03'\n",
      " '2017-04' '2017-04' '2017-04' '2017-04' '2017-04' '2017-04' '2017-04'\n",
      " '2017-05' '2017-05' '2017-05' '2017-05' '2017-05' '2017-05' '2017-05'\n",
      " '2017-06' '2017-06' '2017-06' '2017-06' '2017-06' '2017-06' '2017-06'\n",
      " '2017-07' '2017-07' '2017-07' '2017-07' '2017-07' '2017-07' '2017-07'\n",
      " '2017-08' '2017-08' '2017-08' '2017-08' '2017-08' '2017-08' '2017-08'\n",
      " '2017-09' '2017-09' '2017-09' '2017-09' '2017-09' '2017-09' '2017-09'\n",
      " '2017-10' '2017-10' '2017-10' '2017-10' '2017-10' '2017-10' '2017-10'\n",
      " '2017-11' '2017-11' '2017-11' '2017-11' '2017-11' '2017-11' '2017-11']\n",
      "[151183 171205 140823 141761 135690 126404 142302 125069 138588 170393\n",
      " 163672 124512 120646 115539 154339 173682 178221 143244 140405 133692\n",
      " 122675 125023 144170 143117 142923 142301 135038 122238 132196 149390\n",
      " 150405 186250 183909 173064 126809 162590 151492 152698 153223 149134\n",
      " 138798 158275 130732 191007 195264 192813 151075 141845 127559 132457\n",
      " 153310 154460 152214 186941 175746 124173 163017 185183 145944 152789\n",
      " 149938 143834 159513 131677 151301 191567 189826 186733 140697 126631\n",
      " 128713 146244 149636 148773 146432 173085 155442 166686 188314 187479\n",
      " 151848 149204 140871 126770 135058 153524 152903 184497 173463 136655\n",
      " 127614]\n"
     ]
    }
   ],
   "source": [
    "data_tr=pd.read_csv(\"../data/wdaycount.csv\",header = 0)\n",
    "wday =  np.array(data_tr['wday'])\n",
    "print(wday)\n",
    "year_month =  np.array(data_tr['year_month'])\n",
    "print(year_month)\n",
    "n =  np.array(data_tr['n'])\n",
    "print(n)"
   ]
  },
  {
   "cell_type": "code",
   "execution_count": 18,
   "metadata": {},
   "outputs": [],
   "source": [
    "data_tr=pd.read_csv(\"../data/data_season_state.csv\",header = 0)\n",
    "season =  np.array(data_tr['season'])\n",
    "# print(wday)\n",
    "state =  np.array(data_tr['state'])\n",
    "# print(year_month)\n",
    "records =  np.array(data_tr['records'])\n",
    "# print(n)"
   ]
  },
  {
   "cell_type": "code",
   "execution_count": 12,
   "metadata": {},
   "outputs": [
    {
     "data": {
      "text/html": [
       "<div>\n",
       "<style scoped>\n",
       "    .dataframe tbody tr th:only-of-type {\n",
       "        vertical-align: middle;\n",
       "    }\n",
       "\n",
       "    .dataframe tbody tr th {\n",
       "        vertical-align: top;\n",
       "    }\n",
       "\n",
       "    .dataframe thead th {\n",
       "        text-align: right;\n",
       "    }\n",
       "</style>\n",
       "<table border=\"1\" class=\"dataframe\">\n",
       "  <thead>\n",
       "    <tr style=\"text-align: right;\">\n",
       "      <th></th>\n",
       "      <th>child_weight</th>\n",
       "      <th>depth</th>\n",
       "      <th>error</th>\n",
       "    </tr>\n",
       "  </thead>\n",
       "  <tbody>\n",
       "    <tr>\n",
       "      <th>0</th>\n",
       "      <td>AK</td>\n",
       "      <td>1</td>\n",
       "      <td>3859</td>\n",
       "    </tr>\n",
       "    <tr>\n",
       "      <th>1</th>\n",
       "      <td>AL</td>\n",
       "      <td>1</td>\n",
       "      <td>19862</td>\n",
       "    </tr>\n",
       "    <tr>\n",
       "      <th>2</th>\n",
       "      <td>AR</td>\n",
       "      <td>1</td>\n",
       "      <td>13081</td>\n",
       "    </tr>\n",
       "    <tr>\n",
       "      <th>3</th>\n",
       "      <td>AZ</td>\n",
       "      <td>1</td>\n",
       "      <td>40418</td>\n",
       "    </tr>\n",
       "    <tr>\n",
       "      <th>4</th>\n",
       "      <td>CA</td>\n",
       "      <td>1</td>\n",
       "      <td>229417</td>\n",
       "    </tr>\n",
       "  </tbody>\n",
       "</table>\n",
       "</div>"
      ],
      "text/plain": [
       "  child_weight  depth   error\n",
       "0           AK      1    3859\n",
       "1           AL      1   19862\n",
       "2           AR      1   13081\n",
       "3           AZ      1   40418\n",
       "4           CA      1  229417"
      ]
     },
     "execution_count": 12,
     "metadata": {},
     "output_type": "execute_result"
    }
   ],
   "source": [
    "grid2 = {'depth': season,\n",
    "         'child_weight': state,\n",
    "         'error': records\n",
    "        }\n",
    "# param_grid2 = {'depth': np.array([3,5,7,9]),\n",
    "#          'child_weight': np.array([1,3,5])\n",
    "#               }\n",
    "res2 = pd.DataFrame(grid2)\n",
    "res2.head()"
   ]
  },
  {
   "cell_type": "code",
   "execution_count": 19,
   "metadata": {},
   "outputs": [
    {
     "data": {
      "text/plain": [
       "{'AK',\n",
       " 'AL',\n",
       " 'AR',\n",
       " 'AZ',\n",
       " 'CA',\n",
       " 'CO',\n",
       " 'CT',\n",
       " 'DC',\n",
       " 'DE',\n",
       " 'FL',\n",
       " 'GA',\n",
       " 'HI',\n",
       " 'IA',\n",
       " 'ID',\n",
       " 'IL',\n",
       " 'IN',\n",
       " 'KS',\n",
       " 'KY',\n",
       " 'LA',\n",
       " 'MA',\n",
       " 'MD',\n",
       " 'ME',\n",
       " 'MI',\n",
       " 'MN',\n",
       " 'MO',\n",
       " 'MS',\n",
       " 'MT',\n",
       " 'NC',\n",
       " 'ND',\n",
       " 'NE',\n",
       " 'NH',\n",
       " 'NJ',\n",
       " 'NM',\n",
       " 'NV',\n",
       " 'NY',\n",
       " 'OH',\n",
       " 'OK',\n",
       " 'OR',\n",
       " 'PA',\n",
       " 'RI',\n",
       " 'SC',\n",
       " 'SD',\n",
       " 'TN',\n",
       " 'TX',\n",
       " 'UT',\n",
       " 'VA',\n",
       " 'VT',\n",
       " 'WA',\n",
       " 'WI',\n",
       " 'WV',\n",
       " 'WY'}"
      ]
     },
     "execution_count": 19,
     "metadata": {},
     "output_type": "execute_result"
    }
   ],
   "source": [
    "set(state)"
   ]
  },
  {
   "cell_type": "code",
   "execution_count": 20,
   "metadata": {},
   "outputs": [
    {
     "data": {
      "image/png": "[encoded data removed]",
      "text/plain": [
       "<Figure size 432x288 with 2 Axes>"
      ]
     },
     "metadata": {},
     "output_type": "display_data"
    }
   ],
   "source": [
    "plt.title(\"Heatmap\")\n",
    "plt.imshow(res2.error.values.reshape(4, 51), cmap=plt.cm.Blues)\n",
    "plt.yticks(range(4), season)\n",
    "plt.ylabel(\"season\")\n",
    "plt.xticks(range(50), set(state))\n",
    "plt.xlabel(\"state\")\n",
    "plt.colorbar()\n",
    "plt.show()"
   ]
  },
  {
   "cell_type": "code",
   "execution_count": 16,
   "metadata": {},
   "outputs": [
    {
     "data": {
      "text/html": [
       "<div>\n",
       "<style scoped>\n",
       "    .dataframe tbody tr th:only-of-type {\n",
       "        vertical-align: middle;\n",
       "    }\n",
       "\n",
       "    .dataframe tbody tr th {\n",
       "        vertical-align: top;\n",
       "    }\n",
       "\n",
       "    .dataframe thead th {\n",
       "        text-align: right;\n",
       "    }\n",
       "</style>\n",
       "<table border=\"1\" class=\"dataframe\">\n",
       "  <thead>\n",
       "    <tr style=\"text-align: right;\">\n",
       "      <th></th>\n",
       "      <th>child_weight</th>\n",
       "      <th>depth</th>\n",
       "      <th>error</th>\n",
       "    </tr>\n",
       "  </thead>\n",
       "  <tbody>\n",
       "    <tr>\n",
       "      <th>0</th>\n",
       "      <td>1</td>\n",
       "      <td>3</td>\n",
       "      <td>0.088000</td>\n",
       "    </tr>\n",
       "    <tr>\n",
       "      <th>1</th>\n",
       "      <td>3</td>\n",
       "      <td>3</td>\n",
       "      <td>0.091333</td>\n",
       "    </tr>\n",
       "    <tr>\n",
       "      <th>2</th>\n",
       "      <td>5</td>\n",
       "      <td>3</td>\n",
       "      <td>0.083000</td>\n",
       "    </tr>\n",
       "    <tr>\n",
       "      <th>3</th>\n",
       "      <td>1</td>\n",
       "      <td>5</td>\n",
       "      <td>0.093000</td>\n",
       "    </tr>\n",
       "    <tr>\n",
       "      <th>4</th>\n",
       "      <td>3</td>\n",
       "      <td>5</td>\n",
       "      <td>0.094667</td>\n",
       "    </tr>\n",
       "  </tbody>\n",
       "</table>\n",
       "</div>"
      ],
      "text/plain": [
       "   child_weight  depth     error\n",
       "0             1      3  0.088000\n",
       "1             3      3  0.091333\n",
       "2             5      3  0.083000\n",
       "3             1      5  0.093000\n",
       "4             3      5  0.094667"
      ]
     },
     "execution_count": 16,
     "metadata": {},
     "output_type": "execute_result"
    }
   ],
   "source": [
    "grid2 = {'depth': np.array([3,3,3,5,5,5,7,7,7,9,9,9]),\n",
    "         'child_weight': np.array([1,3,5,1,3,5,1,3,5,1,3,5]),\n",
    "         'error': np.array([0.0880000, 0.09133333, 0.08300000,\n",
    "                            0.0930000, 0.09466667, 0.09400000,\n",
    "                            0.1023333, 0.09466667, 0.09966667,\n",
    "                            0.1053333, 0.10033333, 0.09533333])\n",
    "        }\n",
    "param_grid2 = {'depth': np.array([3,5,7,9]),\n",
    "         'child_weight': np.array([1,3,5])\n",
    "              }\n",
    "res2 = pd.DataFrame(grid2)\n",
    "res2.head()"
   ]
  },
  {
   "cell_type": "code",
   "execution_count": 17,
   "metadata": {
    "scrolled": true
   },
   "outputs": [
    {
     "data": {
      "image/png": "[encoded data removed]",
      "text/plain": [
       "<Figure size 432x288 with 2 Axes>"
      ]
     },
     "metadata": {},
     "output_type": "display_data"
    }
   ],
   "source": [
    "plt.title(\"cv.error\")\n",
    "plt.imshow(res2.error.values.reshape(4, 3), cmap=plt.cm.Blues)\n",
    "plt.yticks(range(len(param_grid2['depth'])), param_grid2['depth'])\n",
    "plt.ylabel(\"depth\")\n",
    "plt.xticks(range(len(param_grid2['child_weight'])), param_grid2['child_weight'])\n",
    "plt.xlabel(\"child_weight\")\n",
    "plt.colorbar()\n",
    "plt.show()"
   ]
  },
  {
   "cell_type": "code",
   "execution_count": 18,
   "metadata": {},
   "outputs": [
    {
     "data": {
      "text/html": [
       "<div>\n",
       "<style scoped>\n",
       "    .dataframe tbody tr th:only-of-type {\n",
       "        vertical-align: middle;\n",
       "    }\n",
       "\n",
       "    .dataframe tbody tr th {\n",
       "        vertical-align: top;\n",
       "    }\n",
       "\n",
       "    .dataframe thead th {\n",
       "        text-align: right;\n",
       "    }\n",
       "</style>\n",
       "<table border=\"1\" class=\"dataframe\">\n",
       "  <thead>\n",
       "    <tr style=\"text-align: right;\">\n",
       "      <th></th>\n",
       "      <th>child_weight</th>\n",
       "      <th>depth</th>\n",
       "      <th>error</th>\n",
       "    </tr>\n",
       "  </thead>\n",
       "  <tbody>\n",
       "    <tr>\n",
       "      <th>0</th>\n",
       "      <td>1</td>\n",
       "      <td>3</td>\n",
       "      <td>0.091667</td>\n",
       "    </tr>\n",
       "    <tr>\n",
       "      <th>1</th>\n",
       "      <td>3</td>\n",
       "      <td>3</td>\n",
       "      <td>0.093667</td>\n",
       "    </tr>\n",
       "    <tr>\n",
       "      <th>2</th>\n",
       "      <td>5</td>\n",
       "      <td>3</td>\n",
       "      <td>0.091000</td>\n",
       "    </tr>\n",
       "    <tr>\n",
       "      <th>3</th>\n",
       "      <td>1</td>\n",
       "      <td>5</td>\n",
       "      <td>0.098333</td>\n",
       "    </tr>\n",
       "    <tr>\n",
       "      <th>4</th>\n",
       "      <td>3</td>\n",
       "      <td>5</td>\n",
       "      <td>0.097000</td>\n",
       "    </tr>\n",
       "  </tbody>\n",
       "</table>\n",
       "</div>"
      ],
      "text/plain": [
       "   child_weight  depth     error\n",
       "0             1      3  0.091667\n",
       "1             3      3  0.093667\n",
       "2             5      3  0.091000\n",
       "3             1      5  0.098333\n",
       "4             3      5  0.097000"
      ]
     },
     "execution_count": 18,
     "metadata": {},
     "output_type": "execute_result"
    }
   ],
   "source": [
    "grid2 = {'depth': np.array([3,3,3,5,5,5,7,7,7,9,9,9]),\n",
    "         'child_weight': np.array([1,3,5,1,3,5,1,3,5,1,3,5]),\n",
    "         'error': np.array([0.09166667, 0.09366667, 0.09100000,\n",
    "                            0.09833333, 0.09700000, 0.09133333,\n",
    "                            0.10266667, 0.10333333, 0.10333333,\n",
    "                            0.10733333, 0.10100000, 0.09933333])\n",
    "        }\n",
    "param_grid2 = {'depth': np.array([3,5,7,9]),\n",
    "         'child_weight': np.array([1,3,5])\n",
    "              }\n",
    "res2 = pd.DataFrame(grid2)\n",
    "res2.head()"
   ]
  },
  {
   "cell_type": "code",
   "execution_count": 19,
   "metadata": {},
   "outputs": [
    {
     "data": {
      "image/png": "[encoded data removed]",
      "text/plain": [
       "<Figure size 432x288 with 2 Axes>"
      ]
     },
     "metadata": {},
     "output_type": "display_data"
    }
   ],
   "source": [
    "plt.title(\"cv.error\")\n",
    "plt.imshow(res2.error.values.reshape(4, 3), cmap=plt.cm.Blues)\n",
    "plt.yticks(range(len(param_grid2['depth'])), param_grid2['depth'])\n",
    "plt.ylabel(\"depth\")\n",
    "plt.xticks(range(len(param_grid2['child_weight'])), param_grid2['child_weight'])\n",
    "plt.xlabel(\"child_weight\")\n",
    "plt.colorbar()\n",
    "plt.show()"
   ]
  },
  {
   "cell_type": "code",
   "execution_count": null,
   "metadata": {},
   "outputs": [],
   "source": []
  }
 ],
 "metadata": {
  "kernelspec": {
   "display_name": "mypython",
   "language": "python",
   "name": "mypython"
  },
  "language_info": {
   "codemirror_mode": {
    "name": "ipython",
    "version": 2
   },
   "file_extension": ".py",
   "mimetype": "text/x-python",
   "name": "python",
   "nbconvert_exporter": "python",
   "pygments_lexer": "ipython2",
   "version": "2.7.14"
  }
 },
 "nbformat": 4,
 "nbformat_minor": 2
}
